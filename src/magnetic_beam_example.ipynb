{
 "cells": [
  {
   "cell_type": "code",
   "execution_count": 5,
   "metadata": {},
   "outputs": [
    {
     "data": {
      "text/plain": [
       "<elastica.modules.callbacks._CallBack at 0x7ff673de03a0>"
      ]
     },
     "execution_count": 5,
     "metadata": {},
     "output_type": "execute_result"
    }
   ],
   "source": [
    "import numpy as np\n",
    "from matplotlib import pyplot as plt\n",
    "from matplotlib.colors import to_rgb\n",
    "from elastica import *\n",
    "from magneto_pyelastica import *\n",
    "from magneto_pyelastica import utils\n",
    "from typing import Dict, Sequence\n",
    "\n",
    "SAVE_FIGURE = False\n",
    "PLOT_FIGURE = False\n",
    "\n",
    "class MagneticBeamSimulator(\n",
    "    BaseSystemCollection, Constraints, Forcing, Damping, CallBacks\n",
    "):\n",
    "    pass\n",
    "\n",
    "\n",
    "magnetic_beam_sim = MagneticBeamSimulator()\n",
    "\n",
    "# setting up test params\n",
    "n_elem = 50\n",
    "start = np.zeros((3,))\n",
    "direction = np.array([1.0, 0.0, 0.0])\n",
    "normal = np.array([0.0, 1.0, 0.0])\n",
    "base_length = 6.0\n",
    "base_radius = 0.15\n",
    "base_area = np.pi * base_radius**2\n",
    "density = 5000\n",
    "E = 1e6\n",
    "I = np.pi / 4 * base_radius**4\n",
    "poisson_ratio = 0.5\n",
    "shear_modulus = E / (2 * poisson_ratio + 1.0)\n",
    "base_radius = 0.15\n",
    "\n",
    "# setting up magnetic properties\n",
    "magnetization_density = 1e5\n",
    "magnetic_field_angle = 2 * np.pi / 3\n",
    "magnetic_field = 1e-2\n",
    "magnetization_direction = np.ones((n_elem)) * direction.reshape(3, 1)\n",
    "\n",
    "magnetic_rod = CosseratRod.straight_rod(\n",
    "    n_elem,\n",
    "    start,\n",
    "    direction,\n",
    "    normal,\n",
    "    base_length,\n",
    "    base_radius,\n",
    "    density,\n",
    "    youngs_modulus=E,\n",
    "    shear_modulus=shear_modulus,\n",
    ")\n",
    "magnetic_beam_sim.append(magnetic_rod)\n",
    "\n",
    "# Add boundary conditions, one end of rod is clamped\n",
    "magnetic_beam_sim.constrain(magnetic_rod).using(\n",
    "    OneEndFixedBC, constrained_position_idx=(0,), constrained_director_idx=(0,)\n",
    ")\n",
    "\n",
    "# Set the constant magnetic field object\n",
    "magnetic_field_amplitude = magnetic_field * np.array(\n",
    "    [np.cos(magnetic_field_angle), np.sin(magnetic_field_angle), 0]\n",
    ")\n",
    "magnetic_field_object = ConstantMagneticField(\n",
    "    magnetic_field_amplitude, ramp_interval=500.0, start_time=0.0, end_time=100000\n",
    ")\n",
    "\n",
    "# Apply magnetic forces\n",
    "magnetic_beam_sim.add_forcing_to(magnetic_rod).using(\n",
    "    MagneticForces,\n",
    "    external_magnetic_field=magnetic_field_object,\n",
    "    magnetization_density=magnetization_density,\n",
    "    magnetization_direction=magnetization_direction,\n",
    "    rod_volume=magnetic_rod.volume,\n",
    "    rod_director_collection=magnetic_rod.director_collection,\n",
    ")\n",
    "\n",
    "# Add callbacks\n",
    "class MagneticBeamCallBack(CallBackBaseClass):\n",
    "    def __init__(self, step_skip: int, callback_params: dict):\n",
    "        CallBackBaseClass.__init__(self)\n",
    "        self.every = step_skip\n",
    "        self.callback_params = callback_params\n",
    "\n",
    "    def make_callback(self, system, time, current_step: int):\n",
    "        if current_step % self.every == 0:\n",
    "            self.callback_params[\"time\"].append(time)\n",
    "            self.callback_params[\"step\"].append(current_step)\n",
    "            self.callback_params[\"position\"].append(system.position_collection.copy())\n",
    "            self.callback_params[\"velocity_norm\"].append(\n",
    "                np.linalg.norm(system.velocity_collection)\n",
    "            )\n",
    "\n",
    "\n",
    "# add damping\n",
    "dl = base_length / n_elem\n",
    "dt = 0.05 * dl\n",
    "damping_constant = 1.0\n",
    "magnetic_beam_sim.dampen(magnetic_rod).using(\n",
    "    AnalyticalLinearDamper,\n",
    "    damping_constant=damping_constant,\n",
    "    time_step=dt,\n",
    ")\n",
    "\n",
    "# Add call back for plotting time history of the rod\n",
    "post_processing_dict = defaultdict(list)\n",
    "magnetic_beam_sim.collect_diagnostics(magnetic_rod).using(\n",
    "    MagneticBeamCallBack, step_skip=100, callback_params=post_processing_dict\n",
    ")\n"
   ]
  },
  {
   "cell_type": "code",
   "execution_count": 6,
   "metadata": {},
   "outputs": [
    {
     "name": "stderr",
     "output_type": "stream",
     "text": [
      "  0%|          | 0/166666 [00:00<?, ?it/s]"
     ]
    },
    {
     "name": "stderr",
     "output_type": "stream",
     "text": [
      "100%|██████████| 166666/166666 [00:08<00:00, 19356.98it/s]"
     ]
    },
    {
     "name": "stdout",
     "output_type": "stream",
     "text": [
      "Final time of simulation is :  999.9999999957777\n"
     ]
    },
    {
     "name": "stderr",
     "output_type": "stream",
     "text": [
      "\n"
     ]
    }
   ],
   "source": [
    "\n",
    "magnetic_beam_sim.finalize()\n",
    "timestepper = PositionVerlet()\n",
    "final_time = 1000.0\n",
    "total_steps = int(final_time / dt)\n",
    "integrate(timestepper, magnetic_beam_sim, final_time, total_steps)\n",
    "\n",
    "if PLOT_FIGURE:\n",
    "    with plt.style.context(\"ggplot\"):\n",
    "        fig = plt.figure(figsize=(10, 8), frameon=True, dpi=150)\n",
    "        ax = fig.add_subplot(111)\n",
    "        ax.plot(\n",
    "            magnetic_rod.position_collection[0, ...],\n",
    "            magnetic_rod.position_collection[1, ...],\n",
    "            lw=2,\n",
    "            c=to_rgb(\"xkcd:bluish\"),\n",
    "        )\n",
    "        ax.set_xlabel(\"X\")\n",
    "        ax.set_ylabel(\"Y\")\n",
    "        fig.show()\n",
    "\n",
    "        fig = plt.figure(figsize=(10, 8), frameon=True, dpi=150)\n",
    "        ax = fig.add_subplot(111)\n",
    "        ax.semilogy(\n",
    "            np.asarray(post_processing_dict[\"time\"]),\n",
    "            np.asarray(post_processing_dict[\"velocity_norm\"]),\n",
    "            lw=2,\n",
    "            c=to_rgb(\"xkcd:bluish\"),\n",
    "        )\n",
    "        ax.set_xlabel(\"t\")\n",
    "        ax.set_ylabel(\"|v|\")\n",
    "        fig.show()\n",
    "\n",
    "        plt.show()  # block\n",
    "    if SAVE_FIGURE:\n",
    "        fig.savefig(\"Magnetic_beam_profile: N=\" + str(magnetic_rod.n_elems) + \".png\")"
   ]
  },
  {
   "cell_type": "code",
   "execution_count": 9,
   "metadata": {},
   "outputs": [
    {
     "name": "stdout",
     "output_type": "stream",
     "text": [
      "creating video -- this can take a few minutes\n"
     ]
    },
    {
     "ename": "ValueError",
     "evalue": "range() arg 3 must not be zero",
     "output_type": "error",
     "traceback": [
      "\u001b[0;31m---------------------------------------------------------------------------\u001b[0m",
      "\u001b[0;31mValueError\u001b[0m                                Traceback (most recent call last)",
      "\u001b[1;32m/home/vittorio/elastica_ws/src/magnetic_beam_example.ipynb Cell 3\u001b[0m line \u001b[0;36m3\n\u001b[1;32m     <a href='vscode-notebook-cell://wsl%2Bubuntu-20.04/home/vittorio/elastica_ws/src/magnetic_beam_example.ipynb#W4sdnNjb2RlLXJlbW90ZQ%3D%3D?line=33'>34</a>\u001b[0m     plt\u001b[39m.\u001b[39mclose(fig)\n\u001b[1;32m     <a href='vscode-notebook-cell://wsl%2Bubuntu-20.04/home/vittorio/elastica_ws/src/magnetic_beam_example.ipynb#W4sdnNjb2RlLXJlbW90ZQ%3D%3D?line=35'>36</a>\u001b[0m filename \u001b[39m=\u001b[39m \u001b[39m\"\u001b[39m\u001b[39mmag_rods.mp4\u001b[39m\u001b[39m\"\u001b[39m\n\u001b[0;32m---> <a href='vscode-notebook-cell://wsl%2Bubuntu-20.04/home/vittorio/elastica_ws/src/magnetic_beam_example.ipynb#W4sdnNjb2RlLXJlbW90ZQ%3D%3D?line=36'>37</a>\u001b[0m plot_video_2D(post_processing_dict, video_name\u001b[39m=\u001b[39;49mfilename, fps\u001b[39m=\u001b[39;49m\u001b[39m30\u001b[39;49m)\n",
      "\u001b[1;32m/home/vittorio/elastica_ws/src/magnetic_beam_example.ipynb Cell 3\u001b[0m line \u001b[0;36m2\n\u001b[1;32m     <a href='vscode-notebook-cell://wsl%2Bubuntu-20.04/home/vittorio/elastica_ws/src/magnetic_beam_example.ipynb#W4sdnNjb2RlLXJlbW90ZQ%3D%3D?line=26'>27</a>\u001b[0m \u001b[39mwith\u001b[39;00m writer\u001b[39m.\u001b[39msaving(fig, video_name, dpi\u001b[39m=\u001b[39m\u001b[39m100\u001b[39m):\n\u001b[1;32m     <a href='vscode-notebook-cell://wsl%2Bubuntu-20.04/home/vittorio/elastica_ws/src/magnetic_beam_example.ipynb#W4sdnNjb2RlLXJlbW90ZQ%3D%3D?line=27'>28</a>\u001b[0m     \u001b[39mwith\u001b[39;00m plt\u001b[39m.\u001b[39mstyle\u001b[39m.\u001b[39mcontext(\u001b[39m\"\u001b[39m\u001b[39mseaborn-whitegrid\u001b[39m\u001b[39m\"\u001b[39m):\n\u001b[0;32m---> <a href='vscode-notebook-cell://wsl%2Bubuntu-20.04/home/vittorio/elastica_ws/src/magnetic_beam_example.ipynb#W4sdnNjb2RlLXJlbW90ZQ%3D%3D?line=28'>29</a>\u001b[0m         \u001b[39mfor\u001b[39;00m time \u001b[39min\u001b[39;00m \u001b[39mrange\u001b[39;49m(\u001b[39m1\u001b[39;49m, \u001b[39mlen\u001b[39;49m(t), step):\n\u001b[1;32m     <a href='vscode-notebook-cell://wsl%2Bubuntu-20.04/home/vittorio/elastica_ws/src/magnetic_beam_example.ipynb#W4sdnNjb2RlLXJlbW90ZQ%3D%3D?line=29'>30</a>\u001b[0m             rod_lines_2d\u001b[39m.\u001b[39mset_xdata(positions_over_time[time][\u001b[39m2\u001b[39m])\n\u001b[1;32m     <a href='vscode-notebook-cell://wsl%2Bubuntu-20.04/home/vittorio/elastica_ws/src/magnetic_beam_example.ipynb#W4sdnNjb2RlLXJlbW90ZQ%3D%3D?line=30'>31</a>\u001b[0m             rod_lines_2d\u001b[39m.\u001b[39mset_ydata(positions_over_time[time][\u001b[39m0\u001b[39m])\n",
      "\u001b[0;31mValueError\u001b[0m: range() arg 3 must not be zero"
     ]
    }
   ],
   "source": [
    "from tqdm import tqdm\n",
    "\n",
    "\n",
    "def plot_video_2D(plot_params: dict, video_name=\"video.mp4\", margin=0.2, fps=15):\n",
    "    from matplotlib import pyplot as plt\n",
    "    import matplotlib.animation as manimation\n",
    "\n",
    "    t = np.array(plot_params[\"time\"])\n",
    "    positions_over_time = np.array(plot_params[\"position\"])\n",
    "    total_time = int(np.around(t[..., -1], 1))\n",
    "    total_frames = fps * total_time\n",
    "    step = round(len(t) / total_frames)\n",
    "\n",
    "    print(\"creating video -- this can take a few minutes\")\n",
    "    FFMpegWriter = manimation.writers[\"ffmpeg\"]\n",
    "    metadata = dict(title=\"Movie Test\", artist=\"Matplotlib\", comment=\"Movie support!\")\n",
    "    writer = FFMpegWriter(fps=fps, metadata=metadata)\n",
    "\n",
    "    fig = plt.figure()\n",
    "    ax = fig.add_subplot(111)\n",
    "    plt.axis(\"equal\")\n",
    "    rod_lines_2d = ax.plot(\n",
    "        positions_over_time[0][2], positions_over_time[0][0], linewidth=3\n",
    "    )[0]\n",
    "    ax.set_xlim([0 - margin, 3 + margin])\n",
    "    ax.set_ylim([-1.5 - margin, 1.5 + margin])\n",
    "    with writer.saving(fig, video_name, dpi=100):\n",
    "        with plt.style.context(\"seaborn-whitegrid\"):\n",
    "            for time in range(1, len(t), step):\n",
    "                rod_lines_2d.set_xdata(positions_over_time[time][2])\n",
    "                rod_lines_2d.set_ydata(positions_over_time[time][0])\n",
    "\n",
    "                writer.grab_frame()\n",
    "    plt.close(fig)\n",
    "\n",
    "filename = \"mag_rods.mp4\"\n",
    "plot_video_2D(post_processing_dict, video_name=filename, fps=30)"
   ]
  }
 ],
 "metadata": {
  "kernelspec": {
   "display_name": "elastica_ws",
   "language": "python",
   "name": "python3"
  },
  "language_info": {
   "codemirror_mode": {
    "name": "ipython",
    "version": 3
   },
   "file_extension": ".py",
   "mimetype": "text/x-python",
   "name": "python",
   "nbconvert_exporter": "python",
   "pygments_lexer": "ipython3",
   "version": "3.8.10"
  }
 },
 "nbformat": 4,
 "nbformat_minor": 2
}
