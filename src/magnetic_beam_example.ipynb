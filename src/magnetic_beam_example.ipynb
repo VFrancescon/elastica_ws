{
 "cells": [
  {
   "cell_type": "code",
   "execution_count": 1,
   "metadata": {},
   "outputs": [
    {
     "data": {
      "text/plain": [
       "<elastica.modules.callbacks._CallBack at 0x7f81c06bfe20>"
      ]
     },
     "execution_count": 1,
     "metadata": {},
     "output_type": "execute_result"
    }
   ],
   "source": [
    "import numpy as np\n",
    "from matplotlib import pyplot as plt\n",
    "from matplotlib.colors import to_rgb\n",
    "from elastica import *\n",
    "from magneto_pyelastica import *\n",
    "from magneto_pyelastica import utils\n",
    "from typing import Dict, Sequence\n",
    "\n",
    "SAVE_FIGURE = False\n",
    "PLOT_FIGURE = False\n",
    "\n",
    "class MagneticBeamSimulator(\n",
    "    BaseSystemCollection, Constraints, Forcing, Damping, CallBacks\n",
    "):\n",
    "    pass\n",
    "\n",
    "\n",
    "magnetic_beam_sim = MagneticBeamSimulator()\n",
    "\n",
    "# setting up test params\n",
    "n_elem = 50\n",
    "start = np.zeros((3,))\n",
    "direction = np.array([1.0, 0.0, 0.0])\n",
    "normal = np.array([0.0, 1.0, 0.0])\n",
    "base_length = 6.0\n",
    "base_radius = 0.15\n",
    "base_area = np.pi * base_radius**2\n",
    "density = 5000\n",
    "E = 1e6\n",
    "I = np.pi / 4 * base_radius**4\n",
    "poisson_ratio = 0.5\n",
    "shear_modulus = E / (2 * poisson_ratio + 1.0)\n",
    "base_radius = 0.15\n",
    "\n",
    "# setting up magnetic properties\n",
    "magnetization_density = 1e5\n",
    "magnetic_field_angle = 2 * np.pi / 3\n",
    "magnetic_field = 100\n",
    "magnetization_direction = np.ones((n_elem)) * direction.reshape(3, 1)\n",
    "\n",
    "magnetic_rod = CosseratRod.straight_rod(\n",
    "    n_elem,\n",
    "    start,\n",
    "    direction,\n",
    "    normal,\n",
    "    base_length,\n",
    "    base_radius,\n",
    "    density,\n",
    "    youngs_modulus=E,\n",
    "    shear_modulus=shear_modulus,\n",
    ")\n",
    "magnetic_beam_sim.append(magnetic_rod)\n",
    "\n",
    "# Add boundary conditions, one end of rod is clamped\n",
    "magnetic_beam_sim.constrain(magnetic_rod).using(\n",
    "    OneEndFixedBC, constrained_position_idx=(0,), constrained_director_idx=(0,)\n",
    ")\n",
    "\n",
    "# Set the constant magnetic field object\n",
    "magnetic_field_amplitude = magnetic_field * np.array(\n",
    "    [np.cos(magnetic_field_angle), np.sin(magnetic_field_angle), 0]\n",
    ")\n",
    "magnetic_field_object = ConstantMagneticField(\n",
    "    magnetic_field_amplitude, ramp_interval=500.0, start_time=0.0, end_time=1000.0\n",
    ")\n",
    "\n",
    "# Apply magnetic forces\n",
    "magnetic_beam_sim.add_forcing_to(magnetic_rod).using(\n",
    "    MagneticForces,\n",
    "    external_magnetic_field=magnetic_field_object,\n",
    "    magnetization_density=magnetization_density,\n",
    "    magnetization_direction=magnetization_direction,\n",
    "    rod_volume=magnetic_rod.volume,\n",
    "    rod_director_collection=magnetic_rod.director_collection,\n",
    ")\n",
    "\n",
    "# Add callbacks\n",
    "class MagneticBeamCallBack(CallBackBaseClass):\n",
    "    def __init__(self, step_skip: int, callback_params: dict):\n",
    "        CallBackBaseClass.__init__(self)\n",
    "        self.every = step_skip\n",
    "        self.callback_params = callback_params\n",
    "\n",
    "    def make_callback(self, system, time, current_step: int):\n",
    "        if current_step % self.every == 0:\n",
    "            self.callback_params[\"time\"].append(time)\n",
    "            self.callback_params[\"step\"].append(current_step)\n",
    "            self.callback_params[\"position\"].append(system.position_collection.copy())\n",
    "            self.callback_params[\"velocity_norm\"].append(\n",
    "                np.linalg.norm(system.velocity_collection)\n",
    "            )\n",
    "        return\n",
    "\n",
    "\n",
    "# add damping\n",
    "dl = base_length / n_elem\n",
    "dt = 0.05 * dl\n",
    "damping_constant = 1.0\n",
    "magnetic_beam_sim.dampen(magnetic_rod).using(\n",
    "    AnalyticalLinearDamper,\n",
    "    damping_constant=damping_constant,\n",
    "    time_step=dt,\n",
    ")\n",
    "\n",
    "# Add call back for plotting time history of the rod\n",
    "post_processing_dict = defaultdict(list)\n",
    "magnetic_beam_sim.collect_diagnostics(magnetic_rod).using(\n",
    "    MagneticBeamCallBack, step_skip=100, callback_params=post_processing_dict\n",
    ")\n"
   ]
  },
  {
   "cell_type": "code",
   "execution_count": 2,
   "metadata": {},
   "outputs": [
    {
     "name": "stdout",
     "output_type": "stream",
     "text": [
      "Total steps 166666\n"
     ]
    },
    {
     "name": "stderr",
     "output_type": "stream",
     "text": [
      "  0%|          | 0/166666 [00:00<?, ?it/s]"
     ]
    },
    {
     "name": "stderr",
     "output_type": "stream",
     "text": [
      "100%|██████████| 166666/166666 [00:07<00:00, 21201.19it/s]"
     ]
    },
    {
     "name": "stdout",
     "output_type": "stream",
     "text": [
      "Final time of simulation is :  999.9999999957777\n"
     ]
    },
    {
     "name": "stderr",
     "output_type": "stream",
     "text": [
      "\n"
     ]
    }
   ],
   "source": [
    "\n",
    "magnetic_beam_sim.finalize()\n",
    "timestepper = PositionVerlet()\n",
    "final_time = 1000.0\n",
    "total_steps = int(final_time / dt)\n",
    "print(\"Total steps\", total_steps)\n",
    "integrate(timestepper, magnetic_beam_sim, final_time, total_steps)\n",
    "\n",
    "if PLOT_FIGURE:\n",
    "    with plt.style.context(\"ggplot\"):\n",
    "        fig = plt.figure(figsize=(10, 8), frameon=True, dpi=150)\n",
    "        ax = fig.add_subplot(111)\n",
    "        ax.plot(\n",
    "            magnetic_rod.position_collection[0, ...],\n",
    "            magnetic_rod.position_collection[1, ...],\n",
    "            lw=2,\n",
    "            c=to_rgb(\"xkcd:bluish\"),\n",
    "        )\n",
    "        ax.set_xlabel(\"X\")\n",
    "        ax.set_ylabel(\"Y\")\n",
    "        fig.show()\n",
    "\n",
    "        fig = plt.figure(figsize=(10, 8), frameon=True, dpi=150)\n",
    "        ax = fig.add_subplot(111)\n",
    "        ax.semilogy(\n",
    "            np.asarray(post_processing_dict[\"time\"]),\n",
    "            np.asarray(post_processing_dict[\"velocity_norm\"]),\n",
    "            lw=2,\n",
    "            c=to_rgb(\"xkcd:bluish\"),\n",
    "        )\n",
    "        ax.set_xlabel(\"t\")\n",
    "        ax.set_ylabel(\"|v|\")\n",
    "        fig.show()\n",
    "\n",
    "        plt.show()  # block\n",
    "    if SAVE_FIGURE:\n",
    "        fig.savefig(\"Magnetic_beam_profile: N=\" + str(magnetic_rod.n_elems) + \".png\")"
   ]
  },
  {
   "cell_type": "code",
   "execution_count": 3,
   "metadata": {},
   "outputs": [
    {
     "name": "stdout",
     "output_type": "stream",
     "text": [
      "creating video -- this can take a few minutes\n",
      "1667  len(t)\n",
      "999  total_time\n",
      "14985  total_frames\n",
      "step size:  0  len(t) / total_frames\n"
     ]
    },
    {
     "data": {
      "text/html": [
       "<video src=\"magnetic_beam.mp4\" controls  >\n",
       "      Your browser does not support the <code>video</code> element.\n",
       "    </video>"
      ],
      "text/plain": [
       "<IPython.core.display.Video object>"
      ]
     },
     "execution_count": 3,
     "metadata": {},
     "output_type": "execute_result"
    }
   ],
   "source": [
    "from IPython.display import Video\n",
    "from tqdm import tqdm\n",
    "\n",
    "\n",
    "def plot_video_2D(plot_params: dict, video_name=\"video.mp4\", margin=0.2, fps=15):\n",
    "    from matplotlib import pyplot as plt\n",
    "    import matplotlib.animation as manimation\n",
    "\n",
    "    t = np.array(plot_params[\"time\"])\n",
    "    positions_over_time = np.array(plot_params[\"position\"])\n",
    "    total_time = int(np.around(t[..., -1], 1))\n",
    "    total_frames = fps * total_time\n",
    "    step = round(len(t) / total_frames)\n",
    "\n",
    "    print(\"creating video -- this can take a few minutes\")\n",
    "    FFMpegWriter = manimation.writers[\"ffmpeg\"]\n",
    "    metadata = dict(title=\"Movie Test\", artist=\"Matplotlib\", comment=\"Movie support!\")\n",
    "    writer = FFMpegWriter(fps=fps, metadata=metadata)\n",
    "\n",
    "    fig = plt.figure()\n",
    "    ax = fig.add_subplot(111)\n",
    "    plt.axis(\"equal\")\n",
    "    rod_lines_2d = ax.plot(\n",
    "        positions_over_time[0][2], positions_over_time[0][0], linewidth=3\n",
    "    )[0]\n",
    "    ax.set_xlim([0 - margin, 3 + margin])\n",
    "    ax.set_ylim([-1.5 - margin, 1.5 + margin])\n",
    "    with writer.saving(fig, video_name, dpi=100):\n",
    "        with plt.style.context(\"seaborn-whitegrid\"):\n",
    "            print(len(t), \" len(t)\")\n",
    "            print(total_time, \" total_time\")\n",
    "            print(total_frames, \" total_frames\")\n",
    "            print(\"step size: \", step, \" len(t) / total_frames\")\n",
    "            for time in range(1, len(t), 1):\n",
    "                rod_lines_2d.set_xdata(positions_over_time[time][2])\n",
    "                rod_lines_2d.set_ydata(positions_over_time[time][0])\n",
    "\n",
    "                writer.grab_frame()\n",
    "    plt.close(fig)\n",
    "\n",
    "filename = \"magnetic_beam.mp4\"\n",
    "plot_video_2D(post_processing_dict, filename, margin=0.2, fps=15)\n",
    "Video(filename)"
   ]
  }
 ],
 "metadata": {
  "kernelspec": {
   "display_name": "elastica_ws",
   "language": "python",
   "name": "python3"
  },
  "language_info": {
   "codemirror_mode": {
    "name": "ipython",
    "version": 3
   },
   "file_extension": ".py",
   "mimetype": "text/x-python",
   "name": "python",
   "nbconvert_exporter": "python",
   "pygments_lexer": "ipython3",
   "version": "3.8.10"
  }
 },
 "nbformat": 4,
 "nbformat_minor": 2
}
